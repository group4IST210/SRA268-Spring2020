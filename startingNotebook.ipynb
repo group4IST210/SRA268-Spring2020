{
  "nbformat": 4,
  "nbformat_minor": 0,
  "metadata": {
    "colab": {
      "name": "startingNotebook.ipynb",
      "provenance": [],
      "toc_visible": true,
      "authorship_tag": "ABX9TyOn8OIiPc2v8vxwyY6mkHtv",
      "include_colab_link": true
    },
    "kernelspec": {
      "name": "python3",
      "display_name": "Python 3"
    }
  },
  "cells": [
    {
      "cell_type": "markdown",
      "metadata": {
        "id": "view-in-github",
        "colab_type": "text"
      },
      "source": [
        "<a href=\"https://colab.research.google.com/github/dudaspm/SRA268-Spring2020/blob/master/startingNotebook.ipynb\" target=\"_parent\"><img src=\"https://colab.research.google.com/assets/colab-badge.svg\" alt=\"Open In Colab\"/></a>"
      ]
    },
    {
      "cell_type": "code",
      "metadata": {
        "id": "mtFm22lN4qHe",
        "colab_type": "code",
        "colab": {
          "base_uri": "https://localhost:8080/",
          "height": 35
        },
        "outputId": "c7b3ef98-1ebc-465e-873b-b4a8f79dab65"
      },
      "source": [
        "2+2"
      ],
      "execution_count": 1,
      "outputs": [
        {
          "output_type": "execute_result",
          "data": {
            "text/plain": [
              "4"
            ]
          },
          "metadata": {
            "tags": []
          },
          "execution_count": 1
        }
      ]
    },
    {
      "cell_type": "markdown",
      "metadata": {
        "id": "M1BZZGPL5ddd",
        "colab_type": "text"
      },
      "source": [
        "# Abstract"
      ]
    },
    {
      "cell_type": "markdown",
      "metadata": {
        "id": "11z0R3Go5vxF",
        "colab_type": "text"
      },
      "source": [
        "somethings in the abstract"
      ]
    },
    {
      "cell_type": "markdown",
      "metadata": {
        "id": "LshQUMnh5zXl",
        "colab_type": "text"
      },
      "source": [
        "# introduction "
      ]
    },
    {
      "cell_type": "markdown",
      "metadata": {
        "id": "eqbb6vcs51-t",
        "colab_type": "text"
      },
      "source": [
        "fsadfasdfsadf"
      ]
    },
    {
      "cell_type": "markdown",
      "metadata": {
        "id": "4ppm72z_6B8u",
        "colab_type": "text"
      },
      "source": [
        "![image of mario](https://raw.githubusercontent.com/dudaspm/SRA268-Spring2020/master/images/mario.jpg)"
      ]
    }
  ]
}